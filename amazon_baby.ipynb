{
  "nbformat": 4,
  "nbformat_minor": 0,
  "metadata": {
    "colab": {
      "name": "amazon_baby.ipynb",
      "provenance": [],
      "authorship_tag": "ABX9TyPU+WTYWwozPAeOuXblK88D",
      "include_colab_link": true
    },
    "kernelspec": {
      "name": "python3",
      "display_name": "Python 3"
    },
    "language_info": {
      "name": "python"
    }
  },
  "cells": [
    {
      "cell_type": "markdown",
      "metadata": {
        "id": "view-in-github",
        "colab_type": "text"
      },
      "source": [
        "<a href=\"https://colab.research.google.com/github/kaindoh/sentiment-Analysis-for-Amazon-baby-shop/blob/main/amazon_baby.ipynb\" target=\"_parent\"><img src=\"https://colab.research.google.com/assets/colab-badge.svg\" alt=\"Open In Colab\"/></a>"
      ]
    },
    {
      "cell_type": "code",
      "metadata": {
        "id": "jyykD2Dhd_M3"
      },
      "source": [
        "import numpy as np\n",
        "import pandas as pd"
      ],
      "execution_count": 121,
      "outputs": []
    },
    {
      "cell_type": "code",
      "metadata": {
        "colab": {
          "base_uri": "https://localhost:8080/",
          "height": 276
        },
        "id": "vkiqR6bce0OG",
        "outputId": "c5690cc4-96a6-4d76-d98f-43654896304b"
      },
      "source": [
        "df = pd.read_csv(\"amazon_baby.csv\")\n",
        "df.head()"
      ],
      "execution_count": 122,
      "outputs": [
        {
          "output_type": "execute_result",
          "data": {
            "text/html": [
              "<div>\n",
              "<style scoped>\n",
              "    .dataframe tbody tr th:only-of-type {\n",
              "        vertical-align: middle;\n",
              "    }\n",
              "\n",
              "    .dataframe tbody tr th {\n",
              "        vertical-align: top;\n",
              "    }\n",
              "\n",
              "    .dataframe thead th {\n",
              "        text-align: right;\n",
              "    }\n",
              "</style>\n",
              "<table border=\"1\" class=\"dataframe\">\n",
              "  <thead>\n",
              "    <tr style=\"text-align: right;\">\n",
              "      <th></th>\n",
              "      <th>name</th>\n",
              "      <th>review</th>\n",
              "      <th>rating</th>\n",
              "    </tr>\n",
              "  </thead>\n",
              "  <tbody>\n",
              "    <tr>\n",
              "      <th>0</th>\n",
              "      <td>Planetwise Flannel Wipes</td>\n",
              "      <td>These flannel wipes are OK, but in my opinion ...</td>\n",
              "      <td>3</td>\n",
              "    </tr>\n",
              "    <tr>\n",
              "      <th>1</th>\n",
              "      <td>Planetwise Wipe Pouch</td>\n",
              "      <td>it came early and was not disappointed. i love...</td>\n",
              "      <td>5</td>\n",
              "    </tr>\n",
              "    <tr>\n",
              "      <th>2</th>\n",
              "      <td>Annas Dream Full Quilt with 2 Shams</td>\n",
              "      <td>Very soft and comfortable and warmer than it l...</td>\n",
              "      <td>5</td>\n",
              "    </tr>\n",
              "    <tr>\n",
              "      <th>3</th>\n",
              "      <td>Stop Pacifier Sucking without tears with Thumb...</td>\n",
              "      <td>This is a product well worth the purchase.  I ...</td>\n",
              "      <td>5</td>\n",
              "    </tr>\n",
              "    <tr>\n",
              "      <th>4</th>\n",
              "      <td>Stop Pacifier Sucking without tears with Thumb...</td>\n",
              "      <td>All of my kids have cried non-stop when I trie...</td>\n",
              "      <td>5</td>\n",
              "    </tr>\n",
              "  </tbody>\n",
              "</table>\n",
              "</div>"
            ],
            "text/plain": [
              "                                                name  ... rating\n",
              "0                           Planetwise Flannel Wipes  ...      3\n",
              "1                              Planetwise Wipe Pouch  ...      5\n",
              "2                Annas Dream Full Quilt with 2 Shams  ...      5\n",
              "3  Stop Pacifier Sucking without tears with Thumb...  ...      5\n",
              "4  Stop Pacifier Sucking without tears with Thumb...  ...      5\n",
              "\n",
              "[5 rows x 3 columns]"
            ]
          },
          "metadata": {
            "tags": []
          },
          "execution_count": 122
        }
      ]
    },
    {
      "cell_type": "code",
      "metadata": {
        "colab": {
          "base_uri": "https://localhost:8080/"
        },
        "id": "m0VgOONne0RF",
        "outputId": "2029f51c-e17a-4cec-9d9c-0a520d617cc9"
      },
      "source": [
        "len(df)\n",
        "df.shape\n"
      ],
      "execution_count": 123,
      "outputs": [
        {
          "output_type": "execute_result",
          "data": {
            "text/plain": [
              "(183531, 3)"
            ]
          },
          "metadata": {
            "tags": []
          },
          "execution_count": 123
        }
      ]
    },
    {
      "cell_type": "code",
      "metadata": {
        "colab": {
          "base_uri": "https://localhost:8080/"
        },
        "id": "sYP4OxSZe0SL",
        "outputId": "423a4f44-357a-4cb2-d73d-421f0e4d05f6"
      },
      "source": [
        "df['name'].value_counts()"
      ],
      "execution_count": 124,
      "outputs": [
        {
          "output_type": "execute_result",
          "data": {
            "text/plain": [
              "Vulli Sophie the Giraffe Teether                                            785\n",
              "Simple Wishes Hands-Free Breastpump Bra, Pink, XS-L                         562\n",
              "Infant Optics DXR-5 2.4 GHz Digital Video Baby Monitor with Night Vision    561\n",
              "Baby Einstein Take Along Tunes                                              547\n",
              "Cloud b Twilight Constellation Night Light, Turtle                          520\n",
              "                                                                           ... \n",
              "Bebek Silicone Breast Shields, 2 Pack                                         1\n",
              "Zakeez ZGR Zaky Therapeutic Positioning Pillow- Gray Right                    1\n",
              "Earth's Best Chlorine Free Diapers Size 4 -- 30 Diapers                       1\n",
              "MAM First Tooth Brush, Green, 6 Plus Months                                   1\n",
              "Clek Standard Booster Seat, Julius Red                                        1\n",
              "Name: name, Length: 32417, dtype: int64"
            ]
          },
          "metadata": {
            "tags": []
          },
          "execution_count": 124
        }
      ]
    },
    {
      "cell_type": "code",
      "metadata": {
        "colab": {
          "base_uri": "https://localhost:8080/"
        },
        "id": "TgYI1EDPe0VA",
        "outputId": "3e0d0a4a-563a-439e-c7bf-1ce4d9f07d59"
      },
      "source": [
        "df.groupby('name')['name'].value_counts().sort_values(ascending=False)"
      ],
      "execution_count": 125,
      "outputs": [
        {
          "output_type": "execute_result",
          "data": {
            "text/plain": [
              "name                                                                      name                                                                    \n",
              "Vulli Sophie the Giraffe Teether                                          Vulli Sophie the Giraffe Teether                                            785\n",
              "Simple Wishes Hands-Free Breastpump Bra, Pink, XS-L                       Simple Wishes Hands-Free Breastpump Bra, Pink, XS-L                         562\n",
              "Infant Optics DXR-5 2.4 GHz Digital Video Baby Monitor with Night Vision  Infant Optics DXR-5 2.4 GHz Digital Video Baby Monitor with Night Vision    561\n",
              "Baby Einstein Take Along Tunes                                            Baby Einstein Take Along Tunes                                              547\n",
              "Cloud b Twilight Constellation Night Light, Turtle                        Cloud b Twilight Constellation Night Light, Turtle                          520\n",
              "                                                                                                                                                     ... \n",
              "Gray Chevron Box Pleat Crib Skirt                                         Gray Chevron Box Pleat Crib Skirt                                             1\n",
              "Grasslands Road Once Upon a Time Princess Castle Porcelain Night Light    Grasslands Road Once Upon a Time Princess Castle Porcelain Night Light        1\n",
              "Grasslands Road Jesus Loves Me Keepsake Tin                               Grasslands Road Jesus Loves Me Keepsake Tin                                   1\n",
              "Grasslands Road Bundle of Blessings Lamb Cozie Security Blanket           Grasslands Road Bundle of Blessings Lamb Cozie Security Blanket               1\n",
              "Stork Craft Milan Convertible Crib and Changer Combo Set, White           Stork Craft Milan Convertible Crib and Changer Combo Set, White               1\n",
              "Name: name, Length: 32417, dtype: int64"
            ]
          },
          "metadata": {
            "tags": []
          },
          "execution_count": 125
        }
      ]
    },
    {
      "cell_type": "code",
      "metadata": {
        "id": "I9_0BkhOe0YH"
      },
      "source": [
        "df = df[df.groupby('name')['name'].transform('size') >20]"
      ],
      "execution_count": 126,
      "outputs": []
    },
    {
      "cell_type": "code",
      "metadata": {
        "id": "cXwBOc583dFd"
      },
      "source": [
        "df = df.head(1000)"
      ],
      "execution_count": 127,
      "outputs": []
    },
    {
      "cell_type": "code",
      "metadata": {
        "colab": {
          "base_uri": "https://localhost:8080/"
        },
        "id": "X1I3yv-Ee0ar",
        "outputId": "7cdb64dc-8154-4d63-acc8-852abe64e281"
      },
      "source": [
        "len(df)"
      ],
      "execution_count": 128,
      "outputs": [
        {
          "output_type": "execute_result",
          "data": {
            "text/plain": [
              "1000"
            ]
          },
          "metadata": {
            "tags": []
          },
          "execution_count": 128
        }
      ]
    },
    {
      "cell_type": "code",
      "metadata": {
        "id": "MgS7tJOAe0dq"
      },
      "source": [
        "df['review'] = df.review.astype(str)"
      ],
      "execution_count": 129,
      "outputs": []
    },
    {
      "cell_type": "code",
      "metadata": {
        "colab": {
          "base_uri": "https://localhost:8080/"
        },
        "id": "ghyy9fISe0og",
        "outputId": "31a9b82c-983c-4c50-de75-c28ceb720c23"
      },
      "source": [
        "df['review'].isnull().sum()"
      ],
      "execution_count": 130,
      "outputs": [
        {
          "output_type": "execute_result",
          "data": {
            "text/plain": [
              "0"
            ]
          },
          "metadata": {
            "tags": []
          },
          "execution_count": 130
        }
      ]
    },
    {
      "cell_type": "markdown",
      "metadata": {
        "id": "pFUNS8A5olMJ"
      },
      "source": [
        "## Data Cleaning\n"
      ]
    },
    {
      "cell_type": "code",
      "metadata": {
        "id": "XC1Yte0Ge0q6"
      },
      "source": [
        "# Remove special characters\n",
        "def clean(txt):\n",
        "    txt = txt.str.replace(\"(<br/>)\", \"\")\n",
        "    txt = txt.str.replace('(<a).*(>).*(</a>)', '')\n",
        "    txt = txt.str.replace('(&amp)', '')\n",
        "    txt = txt.str.replace('(&gt)', '')\n",
        "    txt = txt.str.replace('(&lt)', '')\n",
        "    txt = txt.str.replace('(\\xa0)', ' ')  \n",
        "    return txt\n",
        "df['review'] = clean(df['review'])"
      ],
      "execution_count": 131,
      "outputs": []
    },
    {
      "cell_type": "code",
      "metadata": {
        "colab": {
          "base_uri": "https://localhost:8080/"
        },
        "id": "LsynThc8e0tW",
        "outputId": "14691669-9405-4dae-dbb7-98c36c2a8caa"
      },
      "source": [
        "df['review'].head()"
      ],
      "execution_count": 132,
      "outputs": [
        {
          "output_type": "execute_result",
          "data": {
            "text/plain": [
              "153    We bought these for our son when he turned two...\n",
              "154    My son loves stacking cups, so a friend recomm...\n",
              "155    My son Cameron just loves these great little s...\n",
              "156    My one year old son received these as a birthd...\n",
              "157    I purchased this toy for my great grandson's f...\n",
              "Name: review, dtype: object"
            ]
          },
          "metadata": {
            "tags": []
          },
          "execution_count": 132
        }
      ]
    },
    {
      "cell_type": "code",
      "metadata": {
        "colab": {
          "base_uri": "https://localhost:8080/"
        },
        "id": "4_T_C-vxe0zS",
        "outputId": "b70701d4-8b19-4267-c407-16747ef2dfc9"
      },
      "source": [
        "df['review1'] = df['review'].apply(lambda x: \" \".join(x.lower() for x in x.split()))\n",
        "df['review1'].head()"
      ],
      "execution_count": 133,
      "outputs": [
        {
          "output_type": "execute_result",
          "data": {
            "text/plain": [
              "153    we bought these for our son when he turned two...\n",
              "154    my son loves stacking cups, so a friend recomm...\n",
              "155    my son cameron just loves these great little s...\n",
              "156    my one year old son received these as a birthd...\n",
              "157    i purchased this toy for my great grandson's f...\n",
              "Name: review1, dtype: object"
            ]
          },
          "metadata": {
            "tags": []
          },
          "execution_count": 133
        }
      ]
    },
    {
      "cell_type": "code",
      "metadata": {
        "colab": {
          "base_uri": "https://localhost:8080/"
        },
        "id": "E-3N61QZe06d",
        "outputId": "a70048c6-5230-431e-d35d-cc8e6dfc314b"
      },
      "source": [
        "# Remove punctuations\n",
        "df['review1'] = df['review1'].str.replace('[^\\w\\s]', '')\n",
        "df['review1'].head()"
      ],
      "execution_count": 134,
      "outputs": [
        {
          "output_type": "execute_result",
          "data": {
            "text/plain": [
              "153    we bought these for our son when he turned two...\n",
              "154    my son loves stacking cups so a friend recomme...\n",
              "155    my son cameron just loves these great little s...\n",
              "156    my one year old son received these as a birthd...\n",
              "157    i purchased this toy for my great grandsons fi...\n",
              "Name: review1, dtype: object"
            ]
          },
          "metadata": {
            "tags": []
          },
          "execution_count": 134
        }
      ]
    },
    {
      "cell_type": "code",
      "metadata": {
        "colab": {
          "base_uri": "https://localhost:8080/"
        },
        "id": "Cuan4GEre09k",
        "outputId": "7f8fe9b3-e265-47e4-c7d8-0de49ee7f6eb"
      },
      "source": [
        "# Remove stopwords\n",
        "import nltk\n",
        "nltk.download('stopwords')\n",
        "from nltk.corpus import stopwords\n",
        "stop = stopwords.words('english')\n",
        "df['review1'] = df['review1'].apply(lambda x: ' '.join(x for x in x.split() if x not in stop))\n",
        "df['review1'].head()"
      ],
      "execution_count": 135,
      "outputs": [
        {
          "output_type": "stream",
          "text": [
            "[nltk_data] Downloading package stopwords to /root/nltk_data...\n",
            "[nltk_data]   Package stopwords is already up-to-date!\n"
          ],
          "name": "stdout"
        },
        {
          "output_type": "execute_result",
          "data": {
            "text/plain": [
              "153    bought son turned two seen playmates home love...\n",
              "154    son loves stacking cups friend recommended toy...\n",
              "155    son cameron loves great little stacking cars e...\n",
              "156    one year old son received birthday gift loves ...\n",
              "157    purchased toy great grandsons first christmas ...\n",
              "Name: review1, dtype: object"
            ]
          },
          "metadata": {
            "tags": []
          },
          "execution_count": 135
        }
      ]
    },
    {
      "cell_type": "code",
      "metadata": {
        "colab": {
          "base_uri": "https://localhost:8080/"
        },
        "id": "TB4ZyQqfe0_Y",
        "outputId": "48257496-0c1d-413e-88e8-a4ee53ebf357"
      },
      "source": [
        "# Remove rare words\n",
        "freq = pd.Series(' '.join(df['review1']).split()).value_counts()\n",
        "print(freq)\n",
        "less_freq = list(freq[freq==1].index)\n",
        "less_freq"
      ],
      "execution_count": 136,
      "outputs": [
        {
          "output_type": "stream",
          "text": [
            "diaper         834\n",
            "tub            570\n",
            "one            553\n",
            "use            508\n",
            "baby           396\n",
            "              ... \n",
            "neighbors        1\n",
            "hogan            1\n",
            "prevents         1\n",
            "togther          1\n",
            "orientation      1\n",
            "Length: 5921, dtype: int64\n"
          ],
          "name": "stdout"
        },
        {
          "output_type": "execute_result",
          "data": {
            "text/plain": [
              "['thenthe',\n",
              " 'dozens',\n",
              " 'convience',\n",
              " 'before4',\n",
              " 'dipaers',\n",
              " 'swinging',\n",
              " 'consistency',\n",
              " 'contacts',\n",
              " 'reign',\n",
              " '18monthold',\n",
              " 'waiting',\n",
              " 'entering',\n",
              " 'happiest',\n",
              " 'stunned',\n",
              " 'ziplock',\n",
              " 'ithonestly',\n",
              " 'usb',\n",
              " '3648',\n",
              " 'results',\n",
              " 'sanitary',\n",
              " 'neighber',\n",
              " 'unlocked',\n",
              " 'blessing',\n",
              " 'nowbottom',\n",
              " 'peeing',\n",
              " 'opposite',\n",
              " 'bicycle',\n",
              " 'territory',\n",
              " 'bumpkiss',\n",
              " 'disturbing',\n",
              " 'horribly',\n",
              " 'babywell',\n",
              " 'securing',\n",
              " 'pottyshe',\n",
              " 'balancing',\n",
              " 'transportable',\n",
              " 'obnoxiously',\n",
              " 'rides',\n",
              " 'flipup',\n",
              " 'worrying',\n",
              " 'steel',\n",
              " 'pinehurst',\n",
              " 'non',\n",
              " 'disinfectants',\n",
              " '36',\n",
              " 'posting',\n",
              " 'disinfected',\n",
              " 'stayathome',\n",
              " 'disposingalways',\n",
              " 'ratings',\n",
              " 'stability',\n",
              " 'moneys',\n",
              " 'wks',\n",
              " 'rub',\n",
              " 'smellexcuse',\n",
              " '11month',\n",
              " 'compromised',\n",
              " 'increase',\n",
              " 'annoyingly',\n",
              " 'leakinghope',\n",
              " 'reproductions',\n",
              " 'afford',\n",
              " 'himby',\n",
              " 'hotels',\n",
              " 'beepquot',\n",
              " 'affected',\n",
              " 'moldy',\n",
              " 'users',\n",
              " 'allinone',\n",
              " 'convienence',\n",
              " 'surround',\n",
              " 'nj',\n",
              " 'boos',\n",
              " '4month',\n",
              " 'combat',\n",
              " 'positivethe',\n",
              " 'exceptionit',\n",
              " 'toward',\n",
              " 'boombox',\n",
              " 'whythere',\n",
              " 'deck',\n",
              " 'dirtier',\n",
              " 'bagsstable',\n",
              " 'crevaces',\n",
              " 'spewed',\n",
              " 'flinging',\n",
              " 'hed',\n",
              " 'stickies',\n",
              " 'appliance',\n",
              " 'depositshis',\n",
              " 'thud',\n",
              " 'appreciated',\n",
              " 'stairsour',\n",
              " 'necessity',\n",
              " 'dishwashing',\n",
              " 'marketed',\n",
              " 'wholesale',\n",
              " 'villages',\n",
              " 'ellapsed',\n",
              " 'itsybitsy',\n",
              " 'story',\n",
              " 'ordeal',\n",
              " 'highest',\n",
              " 'buyit',\n",
              " 'suppused',\n",
              " 'cranky',\n",
              " 'waterthe',\n",
              " 'mats',\n",
              " 'teacherbut',\n",
              " 'downi',\n",
              " 'fork',\n",
              " 'ultimately',\n",
              " 'errant',\n",
              " 'conductorthe',\n",
              " 'soldafter',\n",
              " 'quotfoldedquot',\n",
              " 'twisttie',\n",
              " 'that34',\n",
              " 'lacks',\n",
              " 'pillows',\n",
              " 'updatethe',\n",
              " 'odor2',\n",
              " 'unexpectedly',\n",
              " 'positives',\n",
              " 'extentions',\n",
              " 'custom',\n",
              " 'forgot',\n",
              " 'isit',\n",
              " 'windows',\n",
              " 'spine',\n",
              " 'starhe',\n",
              " 'noisemaking',\n",
              " 'featuresi',\n",
              " 'compacting',\n",
              " 'tbny',\n",
              " 'advertises',\n",
              " 'outlast',\n",
              " 'score',\n",
              " 'sufficient',\n",
              " 'progress',\n",
              " 'tables',\n",
              " 'nonsmelly',\n",
              " 'groove',\n",
              " 'thickly',\n",
              " 'rock',\n",
              " 'well2',\n",
              " 'usethe',\n",
              " 'telephone',\n",
              " 'lavatory',\n",
              " 'budge',\n",
              " 'edging',\n",
              " 'dds',\n",
              " '1its',\n",
              " 'cycle',\n",
              " 'retire',\n",
              " 'thingthe',\n",
              " 'motivated',\n",
              " 'handleshoot',\n",
              " 'porch',\n",
              " 'memo',\n",
              " 'sol',\n",
              " 'considers',\n",
              " 'gadgets',\n",
              " 'moose',\n",
              " 'tunestick',\n",
              " 'recommending',\n",
              " 'insulates',\n",
              " 'innovative',\n",
              " 'drained',\n",
              " 'laundryusually',\n",
              " 'stenchfilled',\n",
              " 'rug',\n",
              " 'speakers',\n",
              " 'alternative',\n",
              " 'tubno',\n",
              " 'mexico',\n",
              " 'bag2',\n",
              " 'brandnew',\n",
              " 'twos',\n",
              " 'distracts',\n",
              " 'toyswhile',\n",
              " 'overhowever',\n",
              " 'realistically',\n",
              " 'leaki',\n",
              " 'aim',\n",
              " 'chairshaped',\n",
              " 'drowning',\n",
              " 'miracle',\n",
              " 'leaksabsolute',\n",
              " 'champif',\n",
              " 'nov',\n",
              " 'giggles',\n",
              " 'flies',\n",
              " 'sting',\n",
              " 'swoop',\n",
              " 'teddy',\n",
              " 'fiber',\n",
              " 'helper',\n",
              " 'approached',\n",
              " 'spacewe',\n",
              " 'crease',\n",
              " 'sisin',\n",
              " 'expectedthe',\n",
              " 'rosa',\n",
              " 'bathed',\n",
              " 'flaps',\n",
              " 'andor',\n",
              " 'quartet',\n",
              " 'pailand',\n",
              " 'devices',\n",
              " 'batteries5',\n",
              " 'dying',\n",
              " 'thingee',\n",
              " 'wriggling',\n",
              " 'ofen',\n",
              " 'picnic',\n",
              " 'stinkalso',\n",
              " 'chase',\n",
              " 'broad',\n",
              " 'placewe',\n",
              " 'preferred',\n",
              " 'railing',\n",
              " 'ittheres',\n",
              " 'underneathwhen',\n",
              " 'speaking',\n",
              " 'trio',\n",
              " 'quicker',\n",
              " 'wedge',\n",
              " 'enviroment',\n",
              " 'horrible1',\n",
              " 'falure',\n",
              " 'tp',\n",
              " 'lady',\n",
              " 'rewarm',\n",
              " 'cheeks',\n",
              " 'rained',\n",
              " 'atop',\n",
              " 'awesomei',\n",
              " 'illness',\n",
              " 'guessing',\n",
              " 'breathable',\n",
              " 'happend',\n",
              " 'superfast',\n",
              " 'suspected',\n",
              " 'land',\n",
              " 'oppsed',\n",
              " 'kroger',\n",
              " 'spong',\n",
              " 'presence',\n",
              " 'thudding',\n",
              " 'preference',\n",
              " 'twinsso',\n",
              " 'gratiously',\n",
              " 'bomb',\n",
              " 'vacation',\n",
              " 'isthis',\n",
              " 'alas',\n",
              " 'amused',\n",
              " 'increases',\n",
              " 'howevermake',\n",
              " 'cub',\n",
              " 'inthe',\n",
              " 'pose',\n",
              " '3years',\n",
              " 'slippinghas',\n",
              " 'sometime',\n",
              " 'fresheners',\n",
              " 'transport',\n",
              " 'loops',\n",
              " 'adds',\n",
              " 'recommends',\n",
              " 'residual',\n",
              " 'happening',\n",
              " 'parentstobe',\n",
              " 'resitant',\n",
              " 'thesethen',\n",
              " 'warranty',\n",
              " 'finishing',\n",
              " 'heck',\n",
              " 'brace',\n",
              " 'newer',\n",
              " 'emphasize',\n",
              " 'freakin',\n",
              " 'regulary',\n",
              " 'prone',\n",
              " 'readjust',\n",
              " 'extend',\n",
              " 'snapthing',\n",
              " 'ouch3',\n",
              " 'horse',\n",
              " 'consists',\n",
              " 'chipped',\n",
              " 'playgroup',\n",
              " 'safeits',\n",
              " 'atticaquot',\n",
              " 'impregnated',\n",
              " 'statements',\n",
              " 'cables',\n",
              " 'maestros',\n",
              " 'consequence',\n",
              " 'conceptwhich',\n",
              " 'sobefore',\n",
              " '4year',\n",
              " 'questions',\n",
              " 'delivers',\n",
              " 'discouraged',\n",
              " 'easei',\n",
              " 'seatthis',\n",
              " 'decreases',\n",
              " 'leakagerolled',\n",
              " 'designer',\n",
              " 'smellcontrol',\n",
              " 'leakages',\n",
              " 'juttings',\n",
              " 'cosleeper',\n",
              " 'hereneedless',\n",
              " 'babywe',\n",
              " 'recent',\n",
              " 'settings',\n",
              " 'suspect',\n",
              " 'spliing',\n",
              " 'pour',\n",
              " 'tad',\n",
              " 'genetically',\n",
              " 'fundamentals',\n",
              " 'vaguely',\n",
              " 'attaching',\n",
              " 'reinstall',\n",
              " 'rip',\n",
              " 'convienient',\n",
              " 'attended',\n",
              " 'ziploc',\n",
              " 'measured',\n",
              " 'tragedy',\n",
              " 'girlfriends',\n",
              " 'onethere',\n",
              " 'champthe',\n",
              " 'mile',\n",
              " 'strange',\n",
              " 'replacements',\n",
              " 'staps',\n",
              " 'sightthis',\n",
              " 'gonna',\n",
              " 'skillscons',\n",
              " 'opener',\n",
              " 'extensive',\n",
              " 'incline',\n",
              " 'counterweight',\n",
              " 'expectant',\n",
              " 'bins',\n",
              " 'flipped',\n",
              " 'toyrus',\n",
              " 'quotodorlessquot',\n",
              " '4monthold',\n",
              " 'bowl',\n",
              " 'disaster',\n",
              " 'vary',\n",
              " 'tipping',\n",
              " 'buyingall',\n",
              " 'shaver',\n",
              " 'belong',\n",
              " 'snapsound',\n",
              " '10741072107810851086',\n",
              " 'inundated',\n",
              " 'gush',\n",
              " 'genieyour',\n",
              " 'irresistable',\n",
              " 'destroying',\n",
              " 'airings',\n",
              " 'becos',\n",
              " 'daughteri',\n",
              " 'psyched',\n",
              " 'print',\n",
              " 'conceptbut',\n",
              " 'serves',\n",
              " 'usefuli',\n",
              " 'odorsi',\n",
              " 'nestingstacking',\n",
              " 'cutting',\n",
              " 'balled',\n",
              " 'dayalso',\n",
              " 'mistakenly',\n",
              " 'hazardous',\n",
              " 'pottybusiness',\n",
              " 'kicks',\n",
              " 'international',\n",
              " 'pseudoniece',\n",
              " 'diapersunless',\n",
              " 'arrives',\n",
              " 'quotstinkyquot',\n",
              " 'regualer',\n",
              " '3am',\n",
              " 'remarkably',\n",
              " 'slidey',\n",
              " 'leap',\n",
              " '35yearold',\n",
              " 'positions',\n",
              " 'easierput',\n",
              " 'slow',\n",
              " 'purchasegreat',\n",
              " 'matress',\n",
              " 'undamaged',\n",
              " 'geared',\n",
              " 'minimize',\n",
              " 'ruffies',\n",
              " 'gathering',\n",
              " 'filler',\n",
              " 'flow',\n",
              " 'teaching',\n",
              " 'appreciation',\n",
              " 'beneath',\n",
              " 'activatei',\n",
              " 'manufactured',\n",
              " 'detail',\n",
              " 'retured',\n",
              " 'welllit',\n",
              " '5mth',\n",
              " 'packed',\n",
              " 'watse',\n",
              " 'regressed',\n",
              " 'gallons',\n",
              " 'thoughtmaybe',\n",
              " 'fullbut',\n",
              " 'toes',\n",
              " 'incorrectly',\n",
              " 'cookclean',\n",
              " 'switches',\n",
              " 'diminishes',\n",
              " 'akward',\n",
              " 'jumbled',\n",
              " 'godsendeven',\n",
              " 'elseunfortunately',\n",
              " 'submerged',\n",
              " '22monthold',\n",
              " 'fair',\n",
              " 'drawing',\n",
              " 'padprotector',\n",
              " 'soils',\n",
              " 'situations',\n",
              " 'kneeling',\n",
              " 'helpno',\n",
              " 'munhkin',\n",
              " 'ice',\n",
              " 'cats',\n",
              " 'regestered',\n",
              " 'placesway',\n",
              " 'wrapup',\n",
              " 'fostering',\n",
              " 'reoranchcom',\n",
              " 'smears',\n",
              " 'patterns',\n",
              " '4out',\n",
              " 'tubjust',\n",
              " 'off2',\n",
              " 'fastthe',\n",
              " 'offset',\n",
              " 'alonehaving',\n",
              " 'smellfree',\n",
              " 'cubethe',\n",
              " 'digging',\n",
              " 'peek',\n",
              " 'color',\n",
              " 'permeating',\n",
              " 'orignally',\n",
              " 'pointstoddler',\n",
              " 'intuitive',\n",
              " '41',\n",
              " 'uninterested',\n",
              " 'screwed',\n",
              " 'nonexistent',\n",
              " 'solve',\n",
              " 'bac',\n",
              " 'inonly',\n",
              " 'hoursbut',\n",
              " 'sw',\n",
              " 'bobbob',\n",
              " 'ground',\n",
              " 'playjust',\n",
              " 'hey',\n",
              " 'initial',\n",
              " 'division',\n",
              " 'hassleour',\n",
              " 'annoyed',\n",
              " 'cleanliness',\n",
              " 'hoave',\n",
              " 'childproof',\n",
              " 'outward',\n",
              " 'groceries',\n",
              " 'meets',\n",
              " 'dispenser',\n",
              " 'reviewsyou',\n",
              " 'resisted',\n",
              " 'champthis',\n",
              " 'dud',\n",
              " 'pillow',\n",
              " 'cocoon',\n",
              " 'sellyou',\n",
              " 'enticingly',\n",
              " 'isolated',\n",
              " 'clogged3',\n",
              " 'software',\n",
              " 'sailing',\n",
              " 'smack',\n",
              " 'thiseven',\n",
              " 'soo',\n",
              " 'strung',\n",
              " 'handlefor',\n",
              " 'escaped',\n",
              " 'wrenching',\n",
              " 'referred',\n",
              " 'overloaded',\n",
              " 'newspapers',\n",
              " 'letdown',\n",
              " 'nips',\n",
              " 'shelves',\n",
              " 'tremendously',\n",
              " 'spaces',\n",
              " 'depths',\n",
              " 'thingsi',\n",
              " 'gladly',\n",
              " 'language',\n",
              " 'canits',\n",
              " 'can8217t',\n",
              " 'mildly',\n",
              " 'wondeful',\n",
              " 'widest',\n",
              " 'harm',\n",
              " 'fourth',\n",
              " 'gag',\n",
              " 'toddlerhood',\n",
              " 'loses',\n",
              " 'host',\n",
              " 'footthe',\n",
              " 'nine',\n",
              " 'casual',\n",
              " 'yowlingthis',\n",
              " 'impressive',\n",
              " 'haver',\n",
              " 'saddens',\n",
              " 'transitioned',\n",
              " 'derby',\n",
              " 'parentsjust',\n",
              " 'artificially',\n",
              " 'upand',\n",
              " 'splinterthin',\n",
              " '1080107510881091109610821072',\n",
              " 'pilling',\n",
              " 'topic',\n",
              " 'spongebobpros',\n",
              " 'rungs',\n",
              " 'ridge',\n",
              " 'net',\n",
              " 'babyrus',\n",
              " 'tjmaxx',\n",
              " 'glass',\n",
              " 'howeverthe',\n",
              " 'fascinationas',\n",
              " 'hopped',\n",
              " 'ment',\n",
              " '3999',\n",
              " 'seperately',\n",
              " 'practically',\n",
              " 'overloading',\n",
              " 'stressful',\n",
              " 'changer',\n",
              " 'competitorsbad',\n",
              " 'housewe',\n",
              " 'favorites',\n",
              " 'logical',\n",
              " 'easilytakes',\n",
              " 'posses',\n",
              " 'hieght',\n",
              " '1999',\n",
              " 'notbut',\n",
              " 'studio',\n",
              " 'stretched',\n",
              " 'unacceptable',\n",
              " 'distance',\n",
              " 'definetely',\n",
              " 'cleared',\n",
              " 'heed',\n",
              " 'bday',\n",
              " 'staple',\n",
              " 'classified',\n",
              " 'centsno',\n",
              " 'inlaws',\n",
              " 'tap',\n",
              " 'caring',\n",
              " 'aa',\n",
              " 'discover',\n",
              " 'disgustingso',\n",
              " 'trully',\n",
              " 'download',\n",
              " 'kidding',\n",
              " 'providing',\n",
              " 'bay',\n",
              " 'bose',\n",
              " 'scooting',\n",
              " 'prior',\n",
              " 'reviewsi',\n",
              " 'amazingly',\n",
              " 'fullsized',\n",
              " 'smellyou',\n",
              " 'deffinite',\n",
              " 'comparable',\n",
              " 'constiently',\n",
              " 'someones',\n",
              " 'revise',\n",
              " 'watched',\n",
              " 'outgrows',\n",
              " 'shapehandle',\n",
              " 'brain',\n",
              " 'couch',\n",
              " 'dedcided',\n",
              " 'breathalthough',\n",
              " 'chemical',\n",
              " 'sleepi',\n",
              " 'damp',\n",
              " 'postings',\n",
              " 'inhale',\n",
              " 'peepee',\n",
              " 'toyswhen',\n",
              " '2999',\n",
              " 'depicts',\n",
              " 'protrude',\n",
              " 'bunz',\n",
              " 'sixteen',\n",
              " 'receptable',\n",
              " 'bagsafter',\n",
              " '34substantial34',\n",
              " 'that1',\n",
              " 'typing',\n",
              " 'ughthe',\n",
              " 'giggling',\n",
              " 'wiresquick',\n",
              " 'doubles',\n",
              " 'eventhough',\n",
              " 'moderately',\n",
              " 'draped',\n",
              " 'join',\n",
              " 'rotated',\n",
              " 'appeciate',\n",
              " 'passing',\n",
              " 'picks',\n",
              " 'lovelyvery',\n",
              " 'moist',\n",
              " 'suffocated',\n",
              " 'now7monthold',\n",
              " 'matches',\n",
              " 'converts',\n",
              " 'cleanly',\n",
              " 'restocking',\n",
              " 'rips',\n",
              " 'lycol',\n",
              " 'casing',\n",
              " 'germ',\n",
              " 'brokethe',\n",
              " 'attempted',\n",
              " 'visual',\n",
              " 'monthly',\n",
              " 'porous',\n",
              " 'urineresistant',\n",
              " 'diets',\n",
              " 'ginsey',\n",
              " 'entertainer',\n",
              " 'spaniel',\n",
              " 'accompanies',\n",
              " 'thingits',\n",
              " 'shin',\n",
              " 'puts',\n",
              " 'excessive',\n",
              " 'secondguesses',\n",
              " 'familyi',\n",
              " 'methird',\n",
              " 'deodorizersi',\n",
              " 'components',\n",
              " 'nursing',\n",
              " 'vibratebut',\n",
              " 'pinesol',\n",
              " 'fineit',\n",
              " 'school',\n",
              " 'oneonly',\n",
              " 'breathehope',\n",
              " 'piecesi',\n",
              " 'pinchable',\n",
              " 'manage',\n",
              " 'goodies',\n",
              " 'outsideinside',\n",
              " 'sop',\n",
              " 'presume',\n",
              " 'sceptical',\n",
              " 'rooms',\n",
              " 'wished',\n",
              " 'blues',\n",
              " 'spout',\n",
              " 'conditions',\n",
              " 'collapsible',\n",
              " 'fallen',\n",
              " 'smiled',\n",
              " 'collecting',\n",
              " 'wellthis',\n",
              " 'helpfulness',\n",
              " 'accomodate',\n",
              " 'steady',\n",
              " 'loveonly',\n",
              " 'thee',\n",
              " 'disconnect',\n",
              " 'esp',\n",
              " 'mothertobe',\n",
              " 'fluid',\n",
              " 'plugs',\n",
              " 'longthe',\n",
              " 'overfilling',\n",
              " 'toothe',\n",
              " 'focus',\n",
              " 'availwe',\n",
              " 'phenomenal',\n",
              " 'wind',\n",
              " 'bagsthe',\n",
              " 'neutralize',\n",
              " 'granchild',\n",
              " 'aims',\n",
              " 'march',\n",
              " 'lifeback',\n",
              " 'assure',\n",
              " 'rweek',\n",
              " 'rejoice',\n",
              " 'sensethis',\n",
              " 'youngster',\n",
              " 'nameabout',\n",
              " 'bulkthe',\n",
              " 'himits',\n",
              " 'babytrends',\n",
              " 'odorheres',\n",
              " 'hornbut',\n",
              " 'luuuuuuuuuvvv',\n",
              " 'champwow',\n",
              " 'stationed',\n",
              " 'enchanted',\n",
              " '10821086109010861088108610841091',\n",
              " 'ingenious',\n",
              " 'timesi',\n",
              " 'dwellers',\n",
              " 'preschool',\n",
              " 'planet',\n",
              " 'frog',\n",
              " 'wiggling',\n",
              " 'noisy',\n",
              " 'rigid',\n",
              " 'campfires',\n",
              " '5year',\n",
              " 'cigarette',\n",
              " 'outi',\n",
              " 'human',\n",
              " 'slams',\n",
              " 'steep',\n",
              " 'appendages',\n",
              " 'overthis',\n",
              " 'sleeper',\n",
              " 'flipi',\n",
              " 'doesthe',\n",
              " 'refillthe',\n",
              " 'planes',\n",
              " 'poopspeesvomits',\n",
              " 'tickle',\n",
              " 'thumping',\n",
              " 'spin',\n",
              " 'evident',\n",
              " 'rubbed',\n",
              " 'port',\n",
              " 'lightning',\n",
              " 'up3',\n",
              " 'intention',\n",
              " 'bob',\n",
              " 'closes',\n",
              " 'reward',\n",
              " 'overregular',\n",
              " 'threaded',\n",
              " 'pickupten',\n",
              " 'cribenjoy',\n",
              " 'somebody',\n",
              " '1079107410911082',\n",
              " 'newness',\n",
              " 'refrane',\n",
              " 'leakes',\n",
              " 'resist',\n",
              " 'robust',\n",
              " 'musicshe',\n",
              " 'scrap',\n",
              " 'allot',\n",
              " 'segments',\n",
              " 'prediaper',\n",
              " 'shoes',\n",
              " 'headboard',\n",
              " 'minnesota',\n",
              " 'circumstances',\n",
              " 'encouraged',\n",
              " 'fullsizethe',\n",
              " 'prettier',\n",
              " 'subsequent',\n",
              " 'storageone',\n",
              " 'direction',\n",
              " 'neglected',\n",
              " 'rosy',\n",
              " 'cs',\n",
              " 'homepages',\n",
              " 'upprobably',\n",
              " 'accessible',\n",
              " 'biti',\n",
              " 'lesser',\n",
              " 'touts',\n",
              " 'whistles',\n",
              " 'deserve',\n",
              " 'plasticbut',\n",
              " 'moneyi',\n",
              " '108010751088107210771090',\n",
              " 'vie',\n",
              " 'handtowel',\n",
              " 'poked',\n",
              " 'upive',\n",
              " 'whove',\n",
              " 'woke',\n",
              " 'presses',\n",
              " 'valid',\n",
              " 'contingent',\n",
              " 'darlings',\n",
              " '10801084',\n",
              " 'settingone',\n",
              " 'rusting',\n",
              " 'discolor',\n",
              " 'minus',\n",
              " 'insides',\n",
              " 'radio',\n",
              " 'dumb',\n",
              " 'dosnt',\n",
              " 'sysyem',\n",
              " 'soy',\n",
              " 'stars1',\n",
              " 'audience',\n",
              " 'stream',\n",
              " 'choiceyou',\n",
              " 'photos',\n",
              " 'disposablewhen',\n",
              " 'forgotten',\n",
              " 'hating',\n",
              " 'inbetween',\n",
              " 'backup',\n",
              " 'specially',\n",
              " 'first2',\n",
              " 'gamble',\n",
              " 'tracks',\n",
              " 'griffiths',\n",
              " 'flipper',\n",
              " 'viruses',\n",
              " 'ya',\n",
              " 'vicinity',\n",
              " 'themwhen',\n",
              " 'thingwhen',\n",
              " 'fear',\n",
              " 'yesterday',\n",
              " 'extending',\n",
              " 'ingenius',\n",
              " 'sharply',\n",
              " 'entertain',\n",
              " 'hideandseek',\n",
              " '34what',\n",
              " 'mexicanmade',\n",
              " 'drying',\n",
              " 'backand',\n",
              " 'rhymes',\n",
              " 'poopladen',\n",
              " 'canit',\n",
              " 'magical',\n",
              " 'particually',\n",
              " 'snuggly',\n",
              " 'becod',\n",
              " 'roller',\n",
              " 'completly',\n",
              " 'blame',\n",
              " 'roomlove',\n",
              " 'reporti',\n",
              " 'alotthe',\n",
              " 'skip',\n",
              " 'bundle',\n",
              " 'everynight',\n",
              " 'ottoman',\n",
              " '108510721089109010861103109710801081',\n",
              " 'force',\n",
              " 'seller',\n",
              " 'float',\n",
              " 'momtobe',\n",
              " 'apply',\n",
              " 'pinned',\n",
              " 'wthis',\n",
              " 'oldi',\n",
              " 'lv',\n",
              " 'playpenswe',\n",
              " 'reads',\n",
              " 'hulk',\n",
              " 'traditional',\n",
              " 'babytoddler',\n",
              " 'muchits',\n",
              " 'soonthis',\n",
              " 'daughterinlaw',\n",
              " 'pens',\n",
              " 'freezing',\n",
              " 'hadent',\n",
              " 'calling',\n",
              " 'onetime',\n",
              " 'babiesquotrquotus',\n",
              " 'bedroomit',\n",
              " 'premature',\n",
              " 'remain',\n",
              " 'straightsix',\n",
              " 'configured',\n",
              " 'kitty',\n",
              " 'alsoyou',\n",
              " 'strike',\n",
              " 'hug',\n",
              " 'indestructible',\n",
              " 'drill',\n",
              " 'hesitant',\n",
              " 'perfectlythe',\n",
              " 'homeless',\n",
              " 'exiting',\n",
              " 'semblance',\n",
              " 'spots',\n",
              " 'enthusiastic',\n",
              " 'effortless',\n",
              " 'ultra',\n",
              " 'compartment',\n",
              " 'dresser',\n",
              " 'aroundthere',\n",
              " 'conjunction',\n",
              " 'effectiveness',\n",
              " 'socalled',\n",
              " 'wellaimed',\n",
              " 'episodes',\n",
              " 'infantdifferent',\n",
              " 'smashes',\n",
              " 'baseboards',\n",
              " 'overpriced',\n",
              " 'prebag',\n",
              " 'preschoolers',\n",
              " 'sugguest',\n",
              " 'silent',\n",
              " 'crotch',\n",
              " 'havingproblemsthe',\n",
              " 'bach',\n",
              " 'annoyance',\n",
              " 'costlybut',\n",
              " 'seriouslytrust',\n",
              " 'retrieve',\n",
              " 'inorder',\n",
              " 'presumably',\n",
              " 'problemi',\n",
              " 'mattershowever',\n",
              " 'suspiciously',\n",
              " '105210861080',\n",
              " 'continuous',\n",
              " 'slapping',\n",
              " 'fascination',\n",
              " 'graduating',\n",
              " 'sinching',\n",
              " 'unrealistic',\n",
              " 'tiedowns',\n",
              " 'brags',\n",
              " 'curiosity',\n",
              " 'g',\n",
              " 'saysbut',\n",
              " 'willl',\n",
              " 'pianoteacher',\n",
              " 'crowbar',\n",
              " 'offbrand',\n",
              " 'effortlessit',\n",
              " 'explain',\n",
              " 'lug',\n",
              " 'stated',\n",
              " 'coverage',\n",
              " 'reinforced',\n",
              " 'gunk',\n",
              " 'rewet',\n",
              " 'playroomhe',\n",
              " 'havemy',\n",
              " 'bunching',\n",
              " 'upon',\n",
              " 'town',\n",
              " 'joins',\n",
              " 'brian',\n",
              " 'ceased',\n",
              " 'fumbling',\n",
              " 'superiorbut',\n",
              " 'quothexagonquot',\n",
              " 'tubstores',\n",
              " 'survive',\n",
              " 'permanant',\n",
              " 'portability',\n",
              " 'vital',\n",
              " 'mrclean',\n",
              " 'fanatic',\n",
              " ...]"
            ]
          },
          "metadata": {
            "tags": []
          },
          "execution_count": 136
        }
      ]
    },
    {
      "cell_type": "code",
      "metadata": {
        "id": "0Tz9OL4Ie1BQ"
      },
      "source": [
        "df['review1'] = df['review1'].apply(lambda x: ' '.join(x for x in x.split() if x not in less_freq))\n"
      ],
      "execution_count": 137,
      "outputs": []
    },
    {
      "cell_type": "code",
      "metadata": {
        "colab": {
          "base_uri": "https://localhost:8080/"
        },
        "id": "Hp6PUJ8je1ER",
        "outputId": "cde0b5b0-394a-4c27-95ba-1d3e9475b693"
      },
      "source": [
        "len(df)"
      ],
      "execution_count": 138,
      "outputs": [
        {
          "output_type": "execute_result",
          "data": {
            "text/plain": [
              "1000"
            ]
          },
          "metadata": {
            "tags": []
          },
          "execution_count": 138
        }
      ]
    },
    {
      "cell_type": "code",
      "metadata": {
        "colab": {
          "base_uri": "https://localhost:8080/"
        },
        "id": "vVqyBUTJ4IjG",
        "outputId": "55dd1c6f-47f9-42c7-b620-2428f9ab6951"
      },
      "source": [
        "# spelling correction\n",
        "from textblob import TextBlob, Word, Blobber\n",
        "df['review1'] = df['review1'].apply(lambda x: str(TextBlob(x).correct()))\n",
        "df['review1'].head()"
      ],
      "execution_count": 139,
      "outputs": [
        {
          "output_type": "execute_result",
          "data": {
            "text/plain": [
              "153    bought son turned two seen home loved liked bc...\n",
              "154    son loves sticking cups friend recommended toy...\n",
              "155    son loves great little sticking cars enjoys st...\n",
              "156    one year old son received birthday gift loves ...\n",
              "157    purchased toy great grandson first christmas 6...\n",
              "Name: review1, dtype: object"
            ]
          },
          "metadata": {
            "tags": []
          },
          "execution_count": 139
        }
      ]
    },
    {
      "cell_type": "code",
      "metadata": {
        "id": "Rb8QJu0b4Ioa"
      },
      "source": [
        "from nltk.stem import PorterStemmer\n",
        "st = PorterStemmer()\n",
        "df['review1'] = df['review1'].apply(lambda x: \" \".join([st.stem(word) for word in x.split()]))"
      ],
      "execution_count": 140,
      "outputs": []
    },
    {
      "cell_type": "code",
      "metadata": {
        "colab": {
          "base_uri": "https://localhost:8080/"
        },
        "id": "zX5CsCdR4Iud",
        "outputId": "10dfdd30-5fcd-436e-eb42-815eb663b26d"
      },
      "source": [
        "import nltk\n",
        "nltk.download('wordnet')\n",
        "df['review1'] = df['review1'].apply(lambda x: \" \".join([Word(word).lemmatize() for word in x.split()]))\n",
        "df['review1'].head()"
      ],
      "execution_count": 141,
      "outputs": [
        {
          "output_type": "stream",
          "text": [
            "[nltk_data] Downloading package wordnet to /root/nltk_data...\n",
            "[nltk_data]   Package wordnet is already up-to-date!\n"
          ],
          "name": "stdout"
        },
        {
          "output_type": "execute_result",
          "data": {
            "text/plain": [
              "153    bought son turn two seen home love like bc unl...\n",
              "154    son love stick cup friend recommend toy son lo...\n",
              "155    son love great littl stick car enjoy stick gre...\n",
              "156    one year old son receiv birthday gift love sta...\n",
              "157    purchas toy great grandson first christma 6 mo...\n",
              "Name: review1, dtype: object"
            ]
          },
          "metadata": {
            "tags": []
          },
          "execution_count": 141
        }
      ]
    },
    {
      "cell_type": "code",
      "metadata": {
        "id": "WjPAUkDe4IxJ"
      },
      "source": [
        "# remove punctuations\n",
        "df['review1'] = df['review1'].str.replace('[^\\w\\s]','')"
      ],
      "execution_count": 142,
      "outputs": []
    },
    {
      "cell_type": "code",
      "metadata": {
        "colab": {
          "base_uri": "https://localhost:8080/",
          "height": 293
        },
        "id": "vKPA9KUVGgrv",
        "outputId": "abeb7e2e-a538-4b2e-ef1b-600d857786e0"
      },
      "source": [
        "df.head()"
      ],
      "execution_count": 143,
      "outputs": [
        {
          "output_type": "execute_result",
          "data": {
            "text/html": [
              "<div>\n",
              "<style scoped>\n",
              "    .dataframe tbody tr th:only-of-type {\n",
              "        vertical-align: middle;\n",
              "    }\n",
              "\n",
              "    .dataframe tbody tr th {\n",
              "        vertical-align: top;\n",
              "    }\n",
              "\n",
              "    .dataframe thead th {\n",
              "        text-align: right;\n",
              "    }\n",
              "</style>\n",
              "<table border=\"1\" class=\"dataframe\">\n",
              "  <thead>\n",
              "    <tr style=\"text-align: right;\">\n",
              "      <th></th>\n",
              "      <th>name</th>\n",
              "      <th>review</th>\n",
              "      <th>rating</th>\n",
              "      <th>review1</th>\n",
              "    </tr>\n",
              "  </thead>\n",
              "  <tbody>\n",
              "    <tr>\n",
              "      <th>153</th>\n",
              "      <td>Fisher Price Nesting Action Vehicles</td>\n",
              "      <td>We bought these for our son when he turned two...</td>\n",
              "      <td>5</td>\n",
              "      <td>bought son turn two seen home love like bc unl...</td>\n",
              "    </tr>\n",
              "    <tr>\n",
              "      <th>154</th>\n",
              "      <td>Fisher Price Nesting Action Vehicles</td>\n",
              "      <td>My son loves stacking cups, so a friend recomm...</td>\n",
              "      <td>5</td>\n",
              "      <td>son love stick cup friend recommend toy son lo...</td>\n",
              "    </tr>\n",
              "    <tr>\n",
              "      <th>155</th>\n",
              "      <td>Fisher Price Nesting Action Vehicles</td>\n",
              "      <td>My son Cameron just loves these great little s...</td>\n",
              "      <td>5</td>\n",
              "      <td>son love great littl stick car enjoy stick gre...</td>\n",
              "    </tr>\n",
              "    <tr>\n",
              "      <th>156</th>\n",
              "      <td>Fisher Price Nesting Action Vehicles</td>\n",
              "      <td>My one year old son received these as a birthd...</td>\n",
              "      <td>5</td>\n",
              "      <td>one year old son receiv birthday gift love sta...</td>\n",
              "    </tr>\n",
              "    <tr>\n",
              "      <th>157</th>\n",
              "      <td>Fisher Price Nesting Action Vehicles</td>\n",
              "      <td>I purchased this toy for my great grandson's f...</td>\n",
              "      <td>5</td>\n",
              "      <td>purchas toy great grandson first christma 6 mo...</td>\n",
              "    </tr>\n",
              "  </tbody>\n",
              "</table>\n",
              "</div>"
            ],
            "text/plain": [
              "                                     name  ...                                            review1\n",
              "153  Fisher Price Nesting Action Vehicles  ...  bought son turn two seen home love like bc unl...\n",
              "154  Fisher Price Nesting Action Vehicles  ...  son love stick cup friend recommend toy son lo...\n",
              "155  Fisher Price Nesting Action Vehicles  ...  son love great littl stick car enjoy stick gre...\n",
              "156  Fisher Price Nesting Action Vehicles  ...  one year old son receiv birthday gift love sta...\n",
              "157  Fisher Price Nesting Action Vehicles  ...  purchas toy great grandson first christma 6 mo...\n",
              "\n",
              "[5 rows x 4 columns]"
            ]
          },
          "metadata": {
            "tags": []
          },
          "execution_count": 143
        }
      ]
    },
    {
      "cell_type": "code",
      "metadata": {
        "id": "WSg1Wp2EGguh"
      },
      "source": [
        ""
      ],
      "execution_count": 143,
      "outputs": []
    },
    {
      "cell_type": "code",
      "metadata": {
        "id": "QamxON4NGgxb"
      },
      "source": [
        ""
      ],
      "execution_count": 143,
      "outputs": []
    }
  ]
}